{
 "cells": [
  {
   "cell_type": "code",
   "execution_count": 1,
   "metadata": {
    "executionInfo": {
     "elapsed": 455,
     "status": "ok",
     "timestamp": 1729090244598,
     "user": {
      "displayName": "Anisha Mergal",
      "userId": "05592957071942223205"
     },
     "user_tz": -330
    },
    "id": "zHNyf7p0zwT2"
   },
   "outputs": [],
   "source": [
    "import numpy as np\n",
    "\n",
    "class TicTacToe:\n",
    "    def __init__(self):\n",
    "        self.board = np.zeros((3, 3))  # Initialize a 3x3 board\n",
    "        self.current_player = 1  # Player 1 starts (X)\n",
    "\n",
    "    def reset(self):\n",
    "        self.board = np.zeros((3, 3))\n",
    "        self.current_player = 1\n",
    "\n",
    "    def make_move(self, row, col):\n",
    "        if self.board[row, col] == 0:  # Check if the cell is empty\n",
    "            self.board[row, col] = self.current_player\n",
    "            return True\n",
    "        return False\n",
    "\n",
    "    def check_winner(self):\n",
    "        for i in range(3):\n",
    "            if abs(sum(self.board[i, :])) == 3:  # Check rows\n",
    "                return self.current_player\n",
    "            if abs(sum(self.board[:, i])) == 3:  # Check columns\n",
    "                return self.current_player\n",
    "        if abs(sum(np.diag(self.board))) == 3:  # Check diagonal\n",
    "            return self.current_player\n",
    "        if abs(sum(np.diag(np.fliplr(self.board)))) == 3:  # Check anti-diagonal\n",
    "            return self.current_player\n",
    "        return 0 if np.all(self.board != 0) else None  # Draw or game not finished\n",
    "\n",
    "    def switch_player(self):\n",
    "        self.current_player = 2 if self.current_player == 1 else 1\n",
    "\n",
    "    def print_board(self):\n",
    "        print(self.board)\n"
   ]
  },
  {
   "cell_type": "code",
   "execution_count": 2,
   "metadata": {
    "executionInfo": {
     "elapsed": 601,
     "status": "ok",
     "timestamp": 1729090262822,
     "user": {
      "displayName": "Anisha Mergal",
      "userId": "05592957071942223205"
     },
     "user_tz": -330
    },
    "id": "5fbFf2XWzygI"
   },
   "outputs": [],
   "source": [
    "class QLearningAgent:\n",
    "    def __init__(self):\n",
    "        self.q_table = {}  # Dictionary to hold the Q-values\n",
    "        self.learning_rate = 0.1\n",
    "        self.discount_factor = 0.9\n",
    "        self.exploration_prob = 1.0  # Start with exploration\n",
    "        self.exploration_decay = 0.995\n",
    "        self.min_exploration_prob = 0.1\n",
    "\n",
    "    def get_state_key(self, state):\n",
    "        return str(state.reshape(9))  # Convert board to a tuple key\n",
    "\n",
    "    def choose_action(self, state):\n",
    "        if np.random.rand() < self.exploration_prob:\n",
    "            return np.random.choice(np.argwhere(state.flatten() == 0).flatten())  # Random action\n",
    "        else:\n",
    "            state_key = self.get_state_key(state)\n",
    "            return np.argmax(self.q_table.get(state_key, np.zeros(9)))  # Best action\n",
    "\n",
    "    def update_q_table(self, state, action, reward, next_state):\n",
    "        state_key = self.get_state_key(state)\n",
    "        next_state_key = self.get_state_key(next_state)\n",
    "        current_q = self.q_table.get(state_key, np.zeros(9))[action]\n",
    "        max_next_q = np.max(self.q_table.get(next_state_key, np.zeros(9)))\n",
    "\n",
    "        # Q-learning update rule\n",
    "        new_q = current_q + self.learning_rate * (reward + self.discount_factor * max_next_q - current_q)\n",
    "        if state_key not in self.q_table:\n",
    "            self.q_table[state_key] = np.zeros(9)\n",
    "        self.q_table[state_key][action] = new_q\n",
    "\n",
    "    def decay_exploration(self):\n",
    "        if self.exploration_prob > self.min_exploration_prob:\n",
    "            self.exploration_prob *= self.exploration_decay\n"
   ]
  },
  {
   "cell_type": "code",
   "execution_count": 3,
   "metadata": {
    "executionInfo": {
     "elapsed": 686,
     "status": "ok",
     "timestamp": 1729090333726,
     "user": {
      "displayName": "Anisha Mergal",
      "userId": "05592957071942223205"
     },
     "user_tz": -330
    },
    "id": "vGEsEtaW0G4z"
   },
   "outputs": [],
   "source": [
    "def train(agent, episodes=10000):\n",
    "    for episode in range(episodes):\n",
    "        game = TicTacToe()\n",
    "        state = game.board.copy()\n",
    "\n",
    "        while True:\n",
    "            action = agent.choose_action(state)\n",
    "            row, col = divmod(action, 3)  # Convert action to row and column\n",
    "            if game.make_move(row, col):\n",
    "                winner = game.check_winner()\n",
    "                next_state = game.board.copy()\n",
    "\n",
    "                if winner is not None:\n",
    "                    reward = 1 if winner == 1 else -1 if winner == 2 else 0\n",
    "                    agent.update_q_table(state, action, reward, next_state)\n",
    "                    break\n",
    "\n",
    "                agent.update_q_table(state, action, 0, next_state)  # No reward yet\n",
    "                game.switch_player()\n",
    "                state = next_state\n"
   ]
  },
  {
   "cell_type": "code",
   "execution_count": null,
   "metadata": {
    "colab": {
     "base_uri": "https://localhost:8080/",
     "height": 321
    },
    "executionInfo": {
     "elapsed": 263785,
     "status": "error",
     "timestamp": 1729090791188,
     "user": {
      "displayName": "Anisha Mergal",
      "userId": "05592957071942223205"
     },
     "user_tz": -330
    },
    "id": "vybTCndIz5IQ",
    "outputId": "d1214b68-0529-4a44-cea4-c6fcb541db1d"
   },
   "outputs": [],
   "source": [
    "def test(agent, games=100):\n",
    "    agent.exploration_prob = 0.0\n",
    "    wins = 0\n",
    "\n",
    "    for _ in range(games):\n",
    "        game = TicTacToe()\n",
    "        state = game.board.copy()\n",
    "\n",
    "        while True:\n",
    "            action = agent.choose_action(state)\n",
    "            row, col = divmod(action, 3)\n",
    "            if game.make_move(row, col):\n",
    "                winner = game.check_winner()\n",
    "                if winner is not None:\n",
    "                    if winner == 1:\n",
    "                        wins += 1\n",
    "                    break\n",
    "\n",
    "                # Random move for the opponent\n",
    "                available_actions = np.argwhere(game.board.flatten() == 0).flatten()\n",
    "                opponent_action = np.random.choice(available_actions)\n",
    "                opponent_row, opponent_col = divmod(opponent_action, 3)\n",
    "                game.make_move(opponent_row, opponent_col)\n",
    "\n",
    "                winner = game.check_winner()\n",
    "                if winner is not None:\n",
    "                    if winner == 2:\n",
    "                        break\n",
    "                    # Continue the game if it's a draw\n",
    "\n",
    "                state = game.board.copy()\n",
    "\n",
    "    print(f'Win rate: {wins / games * 100:.2f}%')\n",
    "\n",
    "# Create the agent and train it\n",
    "agent = QLearningAgent()\n",
    "train(agent, episodes=10000)\n",
    "\n",
    "# Test the trained model\n",
    "test(agent, games=100)\n"
   ]
  },
  {
   "cell_type": "code",
   "execution_count": null,
   "metadata": {
    "id": "eoGz9afT0AzW"
   },
   "outputs": [],
   "source": []
  }
 ],
 "metadata": {
  "colab": {
   "authorship_tag": "ABX9TyOZelxhECcOe+MKsW+TWCLM",
   "provenance": []
  },
  "kernelspec": {
   "display_name": "Python 3 (ipykernel)",
   "language": "python",
   "name": "python3"
  },
  "language_info": {
   "codemirror_mode": {
    "name": "ipython",
    "version": 3
   },
   "file_extension": ".py",
   "mimetype": "text/x-python",
   "name": "python",
   "nbconvert_exporter": "python",
   "pygments_lexer": "ipython3",
   "version": "3.9.13"
  }
 },
 "nbformat": 4,
 "nbformat_minor": 1
}
